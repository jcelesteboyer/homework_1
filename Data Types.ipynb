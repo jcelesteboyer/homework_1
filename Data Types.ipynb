{
 "cells": [
  {
   "cell_type": "markdown",
   "id": "4756d4c7",
   "metadata": {},
   "source": [
    " # ***Data Types***"
   ]
  },
  {
   "cell_type": "markdown",
   "id": "ecb71aac",
   "metadata": {},
   "source": [
    "### 1. Numeric"
   ]
  },
  {
   "cell_type": "code",
   "execution_count": 1,
   "id": "b180e7ea",
   "metadata": {},
   "outputs": [
    {
     "name": "stdout",
     "output_type": "stream",
     "text": [
      "<class 'int'>\n",
      "<class 'float'>\n"
     ]
    }
   ],
   "source": [
    "# Integers are any whole number \n",
    "cake = 1000\n",
    "print(type(cake))\n",
    "# Floating point numbers are also known as floats and they contain decimal points\n",
    "pie = 3.14\n",
    "print(type(pie))"
   ]
  },
  {
   "cell_type": "markdown",
   "id": "6dd17ab3",
   "metadata": {},
   "source": [
    "### 2. Dictionaries"
   ]
  },
  {
   "cell_type": "code",
   "execution_count": 2,
   "id": "df252944",
   "metadata": {},
   "outputs": [
    {
     "name": "stdout",
     "output_type": "stream",
     "text": [
      "merman\n"
     ]
    }
   ],
   "source": [
    "# Dictionaries are like maps where you have sets of key:value pairs.\n",
    "# They are ordered, changeable, will not allow for duplicates, and surrounded by {}. \n",
    "# Don't forget the comma between each set. \n",
    "dog_nicknames = {'sadie':'baby_bear','merlin':'merman','ko':'stinky_girl'}\n",
    "# You can recall a value by referencing the dictionary and then the key. \n",
    "print(dog_nicknames['merlin'])"
   ]
  },
  {
   "cell_type": "code",
   "execution_count": 3,
   "id": "c1c79da4",
   "metadata": {},
   "outputs": [
    {
     "name": "stdout",
     "output_type": "stream",
     "text": [
      "{'sadie': 'big_booty_judy', 'merlin': 'merman', 'ko': 'stinky_girl'}\n"
     ]
    }
   ],
   "source": [
    "# To change a value in the dictionary \n",
    "dog_nicknames['sadie'] = 'big_booty_judy'\n",
    "print(dog_nicknames)"
   ]
  },
  {
   "cell_type": "markdown",
   "id": "a39a22a1",
   "metadata": {},
   "source": [
    "### 3. Booleans"
   ]
  },
  {
   "cell_type": "code",
   "execution_count": 4,
   "id": "032c92cc",
   "metadata": {},
   "outputs": [
    {
     "ename": "NameError",
     "evalue": "name 'true' is not defined",
     "output_type": "error",
     "traceback": [
      "\u001b[0;31m---------------------------------------------------------------------------\u001b[0m",
      "\u001b[0;31mNameError\u001b[0m                                 Traceback (most recent call last)",
      "\u001b[0;32m/var/folders/zx/rtlkvk155rx_pz72fst65zhh0000gn/T/ipykernel_14054/2893942839.py\u001b[0m in \u001b[0;36m<module>\u001b[0;34m\u001b[0m\n\u001b[1;32m      1\u001b[0m \u001b[0;31m# A boolean is a data type where the output is one of two vaules.\u001b[0m\u001b[0;34m\u001b[0m\u001b[0;34m\u001b[0m\u001b[0m\n\u001b[1;32m      2\u001b[0m \u001b[0;31m# They can either be true or false.\u001b[0m\u001b[0;34m\u001b[0m\u001b[0;34m\u001b[0m\u001b[0m\n\u001b[0;32m----> 3\u001b[0;31m \u001b[0mlife_is_short\u001b[0m \u001b[0;34m=\u001b[0m \u001b[0mtrue\u001b[0m\u001b[0;34m\u001b[0m\u001b[0;34m\u001b[0m\u001b[0m\n\u001b[0m\u001b[1;32m      4\u001b[0m \u001b[0mprint\u001b[0m\u001b[0;34m(\u001b[0m\u001b[0mtype\u001b[0m\u001b[0;34m(\u001b[0m\u001b[0mlife_is_short\u001b[0m\u001b[0;34m)\u001b[0m\u001b[0;34m)\u001b[0m\u001b[0;34m\u001b[0m\u001b[0;34m\u001b[0m\u001b[0m\n",
      "\u001b[0;31mNameError\u001b[0m: name 'true' is not defined"
     ]
    }
   ],
   "source": [
    "# A boolean is a data type where the output is one of two vaules. \n",
    "# They can either be true or false. \n",
    "life_is_short = true\n",
    "print(type(life_is_short))"
   ]
  },
  {
   "cell_type": "code",
   "execution_count": 7,
   "id": "505fe711",
   "metadata": {},
   "outputs": [
    {
     "name": "stdout",
     "output_type": "stream",
     "text": [
      "<class 'bool'>\n"
     ]
    }
   ],
   "source": [
    "# True and false MUST be capitalized. \n",
    "life_is_short = True\n",
    "print(type(life_is_short))"
   ]
  },
  {
   "cell_type": "markdown",
   "id": "08afc5b8",
   "metadata": {},
   "source": [
    "### 4. Sequence"
   ]
  },
  {
   "cell_type": "code",
   "execution_count": 8,
   "id": "a53715a2",
   "metadata": {},
   "outputs": [
    {
     "name": "stdout",
     "output_type": "stream",
     "text": [
      "I just watched the latest episode of AHS\n",
      "<class 'str'>\n",
      "I like this season so far\n",
      "<class 'str'>\n"
     ]
    }
   ],
   "source": [
    "# Strings are lines of characters that are set apart by either double quotes or a single quote. \n",
    "# There is no real cap on the amount of characters you can have in a string.\n",
    "print(\"I just watched the latest episode of AHS\")\n",
    "print(type(\"I just watched the latest episode of AHS\"))\n",
    "print('I like this season so far')\n",
    "print(type('I like this season so far'))"
   ]
  },
  {
   "cell_type": "code",
   "execution_count": 10,
   "id": "c9f66116",
   "metadata": {},
   "outputs": [
    {
     "name": "stdout",
     "output_type": "stream",
     "text": [
      "['dishes', 'laundry', 'homework']\n",
      "['dishes', 'laundry', 'homework', 'mop']\n"
     ]
    }
   ],
   "source": [
    "# Lists are a bunch of items assoicated with one variable and denoted by [].\n",
    "# Lists are one of four types of ways to store data in python. \n",
    "to_do_list = [\"dishes\",\"laundry\",\"homework\"]\n",
    "print(to_do_list)\n",
    "# Lists are changeable and ordered. If new item is added, it goes to the back of the list.\n",
    "to_do_list.append(\"mop\")\n",
    "print(to_do_list)"
   ]
  },
  {
   "cell_type": "code",
   "execution_count": 12,
   "id": "6362ad1c",
   "metadata": {},
   "outputs": [
    {
     "name": "stdout",
     "output_type": "stream",
     "text": [
      "<class 'tuple'>\n"
     ]
    },
    {
     "data": {
      "text/plain": [
       "'vanilla'"
      ]
     },
     "execution_count": 12,
     "metadata": {},
     "output_type": "execute_result"
    }
   ],
   "source": [
    "# Tuples are the third way to store data in Python and is denoted by ().\n",
    "# They are ordered and unchangeable. \n",
    "ice_cream_tuple = (\"vanilla\",\"chocolate\",\"strawberry\")\n",
    "print(type(ice_cream_tuple))\n",
    "# To recall an item in your touple by its position, list the position # in []. \n",
    "# Remember that the inital position is known as '0'. \n",
    "ice_cream_tuple[0]"
   ]
  },
  {
   "cell_type": "markdown",
   "id": "88a56239",
   "metadata": {},
   "source": [
    "### 5. Set"
   ]
  },
  {
   "cell_type": "code",
   "execution_count": 15,
   "id": "2e065c68",
   "metadata": {},
   "outputs": [
    {
     "name": "stdout",
     "output_type": "stream",
     "text": [
      "{'dark', 'milk'}\n",
      "<class 'set'>\n",
      "{'dark', 'white', 'milk'}\n",
      "3\n"
     ]
    }
   ],
   "source": [
    "# Sets are the fourth way to store data in Python and is denoted by {}. \n",
    "# They are unordered and unchangable (with the exception of addition). \n",
    "chocolate_set = {\"dark\",\"milk\"}\n",
    "print(chocolate_set)\n",
    "print(type(chocolate_set))\n",
    "chocolate_set.add(\"white\")\n",
    "print(chocolate_set)\n",
    "# To know the amount of items in a set use len(). \n",
    "print(len(chocolate_set))"
   ]
  },
  {
   "cell_type": "code",
   "execution_count": null,
   "id": "ad34940e",
   "metadata": {},
   "outputs": [],
   "source": []
  }
 ],
 "metadata": {
  "kernelspec": {
   "display_name": "Python 3 (ipykernel)",
   "language": "python",
   "name": "python3"
  },
  "language_info": {
   "codemirror_mode": {
    "name": "ipython",
    "version": 3
   },
   "file_extension": ".py",
   "mimetype": "text/x-python",
   "name": "python",
   "nbconvert_exporter": "python",
   "pygments_lexer": "ipython3",
   "version": "3.9.7"
  }
 },
 "nbformat": 4,
 "nbformat_minor": 5
}
